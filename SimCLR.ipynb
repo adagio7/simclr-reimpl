{
  "nbformat": 4,
  "nbformat_minor": 0,
  "metadata": {
    "colab": {
      "provenance": [],
      "authorship_tag": "ABX9TyMhYyFTSNLkymAxv2yc7P7s",
      "include_colab_link": true
    },
    "kernelspec": {
      "name": "python3",
      "display_name": "Python 3"
    },
    "language_info": {
      "name": "python"
    }
  },
  "cells": [
    {
      "cell_type": "markdown",
      "metadata": {
        "id": "view-in-github",
        "colab_type": "text"
      },
      "source": [
        "<a href=\"https://colab.research.google.com/github/adagio7/simclr-reimpl/blob/main/SimCLR.ipynb\" target=\"_parent\"><img src=\"https://colab.research.google.com/assets/colab-badge.svg\" alt=\"Open In Colab\"/></a>"
      ]
    },
    {
      "cell_type": "code",
      "execution_count": null,
      "metadata": {
        "collapsed": true,
        "id": "QoI6-YSHxMd0"
      },
      "outputs": [],
      "source": [
        "# Run installations\n",
        "!pip3 install torch\n",
        "!pip3 install torchvision"
      ]
    },
    {
      "cell_type": "markdown",
      "source": [
        "## TODO:\n",
        "- Initialize data augmentation\n",
        "- Base encoder (resnet)\n",
        "- Projection Heads (3 layer MLP with ReLU)\n",
        "- Contrastive Loss Function\n",
        "\n",
        "### Nice sections\n",
        "- Image Augmentation Study\n",
        "- Encoder study?\n",
        "- No Projection Heads\n",
        "-"
      ],
      "metadata": {
        "id": "vM5c0dNwys0V"
      }
    },
    {
      "cell_type": "code",
      "source": [
        "import torch\n",
        "import torch.nn as nn\n",
        "from torchvision import transforms\n",
        "from torchvision.models import resnet50, ResNet50_Weights\n",
        "\n",
        "torch.manual_seed(42)\n",
        "device = torch.device(\"cuda\" if torch.cuda.is_available() else \"cpu\")"
      ],
      "metadata": {
        "id": "Ae1DTNxuyhtO"
      },
      "execution_count": 3,
      "outputs": []
    },
    {
      "cell_type": "code",
      "source": [
        "# Defaults to IMAGENET1K_V2\n",
        "model = resnet50(weights=ResNet50_Weights.DEFAULT)"
      ],
      "metadata": {
        "id": "2W6IHh56ypNB"
      },
      "execution_count": null,
      "outputs": []
    },
    {
      "cell_type": "code",
      "source": [
        "transforms = nn.Sequential(\n",
        "  transforms.CenterCrop(10),\n",
        "\n",
        ")"
      ],
      "metadata": {
        "id": "s_tJQry61PQ1"
      },
      "execution_count": null,
      "outputs": []
    },
    {
      "cell_type": "code",
      "source": [
        "class SimCLR():\n",
        "  pass"
      ],
      "metadata": {
        "id": "Vs-8pURgxVUb"
      },
      "execution_count": null,
      "outputs": []
    },
    {
      "cell_type": "code",
      "source": [],
      "metadata": {
        "id": "WiJ0cTRa4qGj"
      },
      "execution_count": null,
      "outputs": []
    },
    {
      "cell_type": "markdown",
      "source": [
        "### Contrastive Loss Function\n",
        "\n",
        "For the loss function, randomly sample a batch of $N$ examples and apply the image augmentation above (twice) to get $2N$ data points.\n",
        "\n",
        "For each image, we takes its positive pairs (the post-augmentation of the same image) $(x_i, x_j)$, and treat the remaining $2(N-1)$ as negative examples.\n",
        "\n",
        "The loss function for a positive pair $(i,j)$ is defined as\n",
        "\n",
        "$$\\ell_{i,j}=-log \\bigg( \\frac{exp(sim(z_i,z_j)/\\tau)}{\\sum_{k=1}^{2N}\\mathbb{1}_{[k\\not=i]}\\:exp(sim(z_i,z_k)/\\tau))}\\bigg)$$\n",
        "\n",
        "where $sim(u,v)=\\frac{u^Tv}{\\lVert u\\rVert\\lVert v\\rVert}$ (the dot product of $l_2$ normalized $u, v$).\n",
        "and $\\mathbb{1}_{[k\\not=i]}=1$ if $k\\not=i$ else 0 and $\\tau$ denotes the temperature parameter.\n",
        "\n",
        "In the paper, this is denoted by NT-Xent (normalized temperature-scaled cross entropy loss).\n",
        "\n",
        "#### Cost Function\n",
        "The cost function is defined by\n",
        "\n",
        "$$\\mathcal{L}=\\frac{1}{2N}\\sum_{k=1}^{N}\\big[\\ell(2k-1,2k)+\\ell(2k,2k-1)\\big]$$\n",
        "\n",
        "Why is this not symmetrical?"
      ],
      "metadata": {
        "id": "RoGkllCI4qrg"
      }
    },
    {
      "cell_type": "code",
      "source": [],
      "metadata": {
        "id": "TntBYxse9Uf8"
      },
      "execution_count": null,
      "outputs": []
    }
  ]
}